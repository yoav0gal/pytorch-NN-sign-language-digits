{
 "cells": [
  {
   "cell_type": "markdown",
   "metadata": {
    "collapsed": false,
    "id": "XDDbguyGU8Fs",
    "pycharm": {
     "name": "#%% md\n"
    }
   },
   "source": [
    "# pytorch NN sign language digits recognition: \n",
    "\n",
    "\n",
    "---\n",
    "<br>\n",
    "\n",
    "### Created by:\n",
    "Guy Houri and Yoav Gal\n",
    "<br>\n"
   ]
  },
  {
   "cell_type": "markdown",
   "metadata": {
    "id": "JLkWLC8f3HZI"
   },
   "source": [
    "## Sign Language Digits With PyTorch\n",
    "Sign Language Digits dataset contains 5,000 grayscale images in 10 categories. The images show individual articles of hand sign at low resolution (28 by 28 pixels), as seen here:\n",
    "\n",
    "<table>\n",
    "  <tr><td>\n",
    "    <img src=\"https://www.researchgate.net/publication/344389112/figure/fig8/AS:941467451260937@1601474740275/Sample-images-from-ASL-with-digits-dataset.png\"\n",
    "         alt=\"Fashion MNIST sprite\"  width=\"600\">\n",
    "  </td></tr>\n",
    "  \n",
    "</table>\n",
    "\n"
   ]
  },
  {
   "cell_type": "markdown",
   "metadata": {
    "id": "WiRxNFCn3Vxd"
   },
   "source": [
    "\n",
    "\n",
    "The images are 28x28 NumPy arrays, with pixel values ranging between 0 and 255. The *labels* are an array of numbers ranging from '0' to '9'. These correspond to the *class* of hand sign digit the image represents:\n",
    "\n",
    "<table>\n",
    "  <tr>\n",
    "    <th>Label</th>\n",
    "    <th>Class</th>\n",
    "  </tr>\n",
    "  <tr>\n",
    "    <td>0</td>\n",
    "    <td>Hand Sign Zero</td>\n",
    "  </tr>\n",
    "  <tr>\n",
    "    <td>1</td>\n",
    "    <td>Hand Sign One</td>\n",
    "  </tr>\n",
    "    <tr>\n",
    "    <td>2</td>\n",
    "    <td>Hand Sign Two</td>\n",
    "  </tr>\n",
    "    <tr>\n",
    "    <td>3</td>\n",
    "    <td>Hand Sign Three</td>\n",
    "  </tr>\n",
    "    <tr>\n",
    "    <td>4</td>\n",
    "    <td>Hand Sign Four</td>\n",
    "  </tr>\n",
    "    <tr>\n",
    "    <td>5</td>\n",
    "    <td>Hand Sign Five</td>\n",
    "  </tr>\n",
    "    <tr>\n",
    "    <td>6</td>\n",
    "    <td>Hand Sign Six</td>\n",
    "  </tr>\n",
    "    <tr>\n",
    "    <td>7</td>\n",
    "    <td>Hand Sign Seven</td>\n",
    "  </tr>\n",
    "    <tr>\n",
    "    <td>8</td>\n",
    "    <td>Hand Sign Eight</td>\n",
    "  </tr>\n",
    "    <tr>\n",
    "    <td>9</td>\n",
    "    <td>Hand Sign Nine</td>\n",
    "  </tr>\n",
    "</table>\n",
    "\n",
    "<br>\n",
    "\n",
    "# Goodluck!"
   ]
  },
  {
   "cell_type": "markdown",
   "metadata": {
    "id": "Q1WPjPPR6Wpr"
   },
   "source": [
    "#  MUST HAVE DOWNLOADS!"
   ]
  },
  {
   "cell_type": "code",
   "execution_count": null,
   "metadata": {
    "colab": {
     "base_uri": "https://localhost:8080/"
    },
    "id": "qYIWd939wMK8",
    "outputId": "9a68f1dc-d4ee-49cf-9579-777733cf4825"
   },
   "outputs": [
    {
     "name": "stdout",
     "output_type": "stream",
     "text": [
      "time: 23.1 s (started: 2025-01-24 07:10:41 +00:00)\n"
     ]
    }
   ],
   "source": [
    "%%capture\n",
    "!pip install ipython-autotime\n",
    "!pip install -U --no-cache-dir gdown --pre\n",
    "!gdown 1-0fhqH8tXKPb60C_b4aUHT7f-J4O6Ezq # The data set\n",
    "!gdown 1yAEQTqJl-ZbTUr1PNMTOlYMPY0RTAHsp # Our best model\n",
    "!gdown 1GTkifSLRVnBcvlYDtppIXHhsHLwrYXYG # Explanier.md\n",
    "!gdown 1MMPvXVGVeKSfWMTOzB4iqy7fIXtEg8qx # emaples.zip\n",
    "!unzip -o /content/examples.zip\n",
    "%load_ext autotime"
   ]
  },
  {
   "cell_type": "markdown",
   "metadata": {
    "collapsed": false,
    "id": "EU8d54pEU8GF",
    "pycharm": {
     "name": "#%% md\n"
    }
   },
   "source": [
    "# Neural Network with PyTorch part 1 (Binary Classification)"
   ]
  },
  {
   "cell_type": "markdown",
   "metadata": {
    "id": "UPCSaccR32De"
   },
   "source": [
    "## Import Libraries and load data"
   ]
  },
  {
   "cell_type": "code",
   "execution_count": null,
   "metadata": {
    "colab": {
     "base_uri": "https://localhost:8080/"
    },
    "id": "RyvoZdAXU8GG",
    "outputId": "4e7015e8-75ae-4eec-ace1-6e709504cb37",
    "pycharm": {
     "name": "#%%\n"
    }
   },
   "outputs": [
    {
     "name": "stdout",
     "output_type": "stream",
     "text": [
      "time: 5.52 s (started: 2025-01-24 07:11:04 +00:00)\n"
     ]
    }
   ],
   "source": [
    "import torch\n",
    "import matplotlib.pyplot as plt\n",
    "from sklearn.model_selection import train_test_split\n",
    "import numpy as np"
   ]
  },
  {
   "cell_type": "markdown",
   "metadata": {
    "id": "nH0FZfKXwN4X"
   },
   "source": [
    "Loading the dataset as NumPy arrays:\n",
    "\n",
    "* The `dataset` file is a NumPy array containing the image pixles. As you can see, it includes 5,000 rows for each image and 784 columns for each pixel in the image (28x28).\n",
    "* The `labels` file is a NumPy array containing the images labels. As you can see, it includes 5,000 rows for each image corresponding to the dataset."
   ]
  },
  {
   "cell_type": "code",
   "execution_count": null,
   "metadata": {
    "colab": {
     "base_uri": "https://localhost:8080/"
    },
    "id": "UCcGPAXvwX5j",
    "outputId": "33a58f61-7755-4838-d3fd-dede49a59d48"
   },
   "outputs": [
    {
     "name": "stdout",
     "output_type": "stream",
     "text": [
      "Dataset shape: (5000, 784)\n",
      "Labels shape: (5000,)\n",
      "time: 182 ms (started: 2025-01-24 07:11:10 +00:00)\n"
     ]
    }
   ],
   "source": [
    "loaded_data = np.load('/content/dataset_labels.npz')\n",
    "X, y = loaded_data['dataset'], loaded_data['labels']\n",
    "print(f'Dataset shape: {X.shape}\\nLabels shape: {y.shape}')"
   ]
  },
  {
   "cell_type": "code",
   "execution_count": null,
   "metadata": {
    "colab": {
     "base_uri": "https://localhost:8080/"
    },
    "id": "QKBgm5ExxFik",
    "outputId": "fafea648-56cc-4d64-aa78-e38bd206b3ff"
   },
   "outputs": [
    {
     "data": {
      "image/png": "[encoded data removed]",
      "text/plain": [
       "<Figure size 300x300 with 1 Axes>"
      ]
     },
     "metadata": {},
     "output_type": "display_data"
    },
    {
     "name": "stdout",
     "output_type": "stream",
     "text": [
      "time: 403 ms (started: 2025-01-24 07:11:10 +00:00)\n"
     ]
    }
   ],
   "source": [
    "plt.figure(figsize=(3, 3))\n",
    "plt.imshow(X[4500].reshape(28,28))\n",
    "plt.show()"
   ]
  },
  {
   "cell_type": "markdown",
   "metadata": {
    "collapsed": false,
    "id": "6Sm0udbSU8GG",
    "pycharm": {
     "name": "#%% md\n"
    }
   },
   "source": [
    "## Data preprocessing\n"
   ]
  },
  {
   "cell_type": "markdown",
   "metadata": {
    "id": "YSzvJ196GkvO"
   },
   "source": [
    "### Select two classes"
   ]
  },
  {
   "cell_type": "code",
   "execution_count": null,
   "metadata": {
    "colab": {
     "base_uri": "https://localhost:8080/"
    },
    "id": "yjpHGlrmGlbe",
    "outputId": "d5ef2e9e-63b8-4fa3-fe9a-3acf6f3dd16b"
   },
   "outputs": [
    {
     "name": "stdout",
     "output_type": "stream",
     "text": [
      "Y_filtered: (1000,) \n",
      " X_filtered: (1000, 784) \n",
      " Y_filtered: ['0' '0' '5' '5']\n",
      "time: 9.42 ms (started: 2025-01-24 07:11:10 +00:00)\n"
     ]
    }
   ],
   "source": [
    "mask = (y == \"0\") | (y == \"5\")\n",
    "X_filtered = X[mask]\n",
    "Y_filtered = y[mask]\n",
    "\n",
    "print(f'Y_filtered: {Y_filtered.shape} \\n X_filtered: {X_filtered.shape} \\n Y_filtered: {Y_filtered[498:502]}')"
   ]
  },
  {
   "cell_type": "markdown",
   "metadata": {
    "collapsed": false,
    "id": "ZZAUfLmVU8GH",
    "pycharm": {
     "name": "#%% md\n"
    }
   },
   "source": [
    "### Feature scaling"
   ]
  },
  {
   "cell_type": "code",
   "execution_count": null,
   "metadata": {
    "colab": {
     "base_uri": "https://localhost:8080/"
    },
    "id": "hzqQphx7U8GH",
    "outputId": "e82b6a71-70e6-4b73-8a8d-e10882cad777",
    "pycharm": {
     "name": "#%%\n"
    }
   },
   "outputs": [
    {
     "name": "stdout",
     "output_type": "stream",
     "text": [
      "[0.         0.         0.         0.         0.         0.\n",
      " 0.         0.         0.34509804 0.55686275 0.09019608 0.\n",
      " 0.         0.         0.4        0.43529412 0.01568627 0.\n",
      " 0.         0.         0.         0.         0.         0.\n",
      " 0.         0.         0.         0.        ]\n",
      "[0 1]\n",
      "time: 6.21 ms (started: 2025-01-24 07:11:10 +00:00)\n"
     ]
    }
   ],
   "source": [
    "scaled_x = X_filtered/255.0\n",
    "scaled_y = (Y_filtered == \"5\").astype(int)\n",
    "\n",
    "\n",
    "print(scaled_x[500][0:28]);\n",
    "print(scaled_y[499:501]);"
   ]
  },
  {
   "cell_type": "markdown",
   "metadata": {
    "id": "xJAbESF7V9aJ"
   },
   "source": [
    "### Create The Datasets"
   ]
  },
  {
   "cell_type": "code",
   "execution_count": null,
   "metadata": {
    "colab": {
     "base_uri": "https://localhost:8080/"
    },
    "id": "mEO0qukTWMRR",
    "outputId": "eb740551-19cc-4ff8-b0d2-53668236c403"
   },
   "outputs": [
    {
     "name": "stdout",
     "output_type": "stream",
     "text": [
      "Train size: 800 \n",
      "Test size: 200\n",
      "time: 16.8 ms (started: 2025-01-24 07:11:10 +00:00)\n"
     ]
    }
   ],
   "source": [
    "from torch.utils.data import Dataset, random_split\n",
    "\n",
    "class SignDigitDataset(Dataset):\n",
    "    def __init__(self, X, y):\n",
    "        self.X = torch.tensor(X , dtype=torch.float32)\n",
    "        self.y = torch.tensor(y, dtype=torch.float32)\n",
    "\n",
    "    def __len__(self):\n",
    "        return len(self.X)\n",
    "\n",
    "    def __getitem__(self, idx):\n",
    "        return self.X[idx], self.y[idx]\n",
    "\n",
    "\n",
    "dataset = SignDigitDataset(scaled_x, scaled_y)\n",
    "\n",
    "train_size = int(0.8 * len(dataset))\n",
    "test_size = len(dataset) - train_size\n",
    "\n",
    "\n",
    "train_dataset, test_dataset = random_split(dataset, [train_size, test_size])\n",
    "\n",
    "print(f'Train size: {len(train_dataset)} \\nTest size: {len(test_dataset)}')"
   ]
  },
  {
   "cell_type": "markdown",
   "metadata": {
    "collapsed": false,
    "id": "FlCtN7Y-U8GH",
    "pycharm": {
     "name": "#%% md\n"
    }
   },
   "source": [
    "Use Pytorch data tools to preprocessed the row data<br>\n",
    "Read about pytorch data tools here: https://pytorch.org/docs/stable/data.html"
   ]
  },
  {
   "cell_type": "code",
   "execution_count": null,
   "metadata": {
    "colab": {
     "base_uri": "https://localhost:8080/"
    },
    "id": "PrJ6v0ACU8GI",
    "outputId": "c5fd8261-81a9-48db-8193-9b4c7198f055",
    "pycharm": {
     "name": "#%%\n"
    }
   },
   "outputs": [
    {
     "name": "stdout",
     "output_type": "stream",
     "text": [
      "time: 1.17 ms (started: 2025-01-24 07:11:11 +00:00)\n"
     ]
    }
   ],
   "source": [
    "from torch.utils.data import DataLoader, RandomSampler\n",
    "\n",
    "train_loader = DataLoader(train_dataset, batch_size=32, sampler=RandomSampler(train_dataset))\n",
    "test_loader = DataLoader(test_dataset, batch_size=32)\n"
   ]
  },
  {
   "cell_type": "markdown",
   "metadata": {
    "collapsed": false,
    "id": "jwIzE9kSU8GI",
    "pycharm": {
     "name": "#%% md\n"
    }
   },
   "source": [
    "## Build the network\n",
    "\n"
   ]
  },
  {
   "cell_type": "markdown",
   "metadata": {
    "id": "QQE31g79VPM3"
   },
   "source": [
    "**Architecture:**\n",
    "\n",
    "- Input layer: 784 neurons (for the flattened 28x28 image)\n",
    "- Hidden layer 1: 128 neurons, ReLU activation\n",
    "- Hidden layer 2: 64 neurons, ReLU activation\n",
    "- Output layer: 1 neuron, Sigmoid activation\n"
   ]
  },
  {
   "cell_type": "code",
   "execution_count": null,
   "metadata": {
    "colab": {
     "base_uri": "https://localhost:8080/"
    },
    "id": "U3IepEv6U8GI",
    "outputId": "5503bd42-a3bb-4690-a7d5-8b19ec9b4615",
    "pycharm": {
     "is_executing": true,
     "name": "#%%\n"
    }
   },
   "outputs": [
    {
     "name": "stdout",
     "output_type": "stream",
     "text": [
      "time: 3.82 ms (started: 2025-01-24 07:11:11 +00:00)\n"
     ]
    }
   ],
   "source": [
    "from torch import nn\n",
    "import torch.nn.functional as F\n",
    "\n",
    "class NeuralNetwork(nn.Module):\n",
    "  def __init__(self):\n",
    "        super(NeuralNetwork, self).__init__()\n",
    "        self.fc1 = nn.Linear(784, 128)\n",
    "        self.relu1 = nn.ReLU()\n",
    "        self.fc2 = nn.Linear(128, 64)\n",
    "        self.relu2 = nn.ReLU()\n",
    "        self.fc3 = nn.Linear(64, 1)\n",
    "        self.sigmoid = nn.Sigmoid()\n",
    "\n",
    "  def forward(self, x):\n",
    "      x = x.view(-1, 784)\n",
    "      x = self.relu1(self.fc1(x))\n",
    "      x = self.relu2(self.fc2(x))\n",
    "      x = self.sigmoid(self.fc3(x))\n",
    "      return x"
   ]
  },
  {
   "cell_type": "markdown",
   "metadata": {
    "id": "Vl_VnBgUHI73"
   },
   "source": [
    "Move the modal to the GPU if avilabe."
   ]
  },
  {
   "cell_type": "code",
   "execution_count": null,
   "metadata": {
    "colab": {
     "base_uri": "https://localhost:8080/"
    },
    "id": "vHnOoE6QeJdX",
    "outputId": "ecf5587e-9165-47e9-c260-f5763853f05f"
   },
   "outputs": [
    {
     "name": "stdout",
     "output_type": "stream",
     "text": [
      "time: 6.59 ms (started: 2025-01-24 07:11:11 +00:00)\n"
     ]
    }
   ],
   "source": [
    "device = torch.device(\"cuda\" if torch.cuda.is_available() else \"cpu\")\n",
    "model = NeuralNetwork().to(device)"
   ]
  },
  {
   "cell_type": "markdown",
   "metadata": {
    "collapsed": false,
    "id": "VH6cuNVOU8GJ",
    "pycharm": {
     "name": "#%% md\n"
    }
   },
   "source": [
    "### Build the Optimizer\n",
    "Read about the Optimizer here: https://pytorch.org/docs/stable/optim.html\n"
   ]
  },
  {
   "cell_type": "code",
   "execution_count": null,
   "metadata": {
    "colab": {
     "base_uri": "https://localhost:8080/"
    },
    "id": "2Xndbe19U8GJ",
    "outputId": "d0ca4a62-567c-433d-b87e-03956ef10fc9",
    "pycharm": {
     "name": "#%%\n"
    }
   },
   "outputs": [
    {
     "name": "stdout",
     "output_type": "stream",
     "text": [
      "time: 768 µs (started: 2025-01-24 07:11:11 +00:00)\n"
     ]
    }
   ],
   "source": [
    "from torch import optim\n",
    "optimizer =  optim.Adam(model.parameters())"
   ]
  },
  {
   "cell_type": "markdown",
   "metadata": {
    "id": "4s2veabTeUpD"
   },
   "source": [
    "### Loss Function\n",
    "Read about Loss here: https://pytorch.org/docs/stable/optim.html"
   ]
  },
  {
   "cell_type": "code",
   "execution_count": null,
   "metadata": {
    "colab": {
     "base_uri": "https://localhost:8080/"
    },
    "id": "5G3Dx5vueVG9",
    "outputId": "d8b6bd7a-ef5b-4a73-a4d5-218ccf7585e6"
   },
   "outputs": [
    {
     "name": "stdout",
     "output_type": "stream",
     "text": [
      "time: 571 µs (started: 2025-01-24 07:11:11 +00:00)\n"
     ]
    }
   ],
   "source": [
    "loss_fn = nn.BCELoss()"
   ]
  },
  {
   "cell_type": "markdown",
   "metadata": {
    "collapsed": false,
    "id": "c7kXhHkoU8GJ",
    "pycharm": {
     "name": "#%% md\n"
    }
   },
   "source": [
    "## Training\n"
   ]
  },
  {
   "cell_type": "code",
   "execution_count": null,
   "metadata": {
    "colab": {
     "base_uri": "https://localhost:8080/"
    },
    "id": "Sq1KOMEeU8GJ",
    "outputId": "0e8ef7d7-aa56-4300-ed20-73ff4184f92d",
    "pycharm": {
     "name": "#%%\n"
    }
   },
   "outputs": [
    {
     "name": "stdout",
     "output_type": "stream",
     "text": [
      "Epoch [1/10], Loss: 0.4707, Accuracy: 0.8800\n",
      "Epoch [2/10], Loss: 0.0530, Accuracy: 0.9962\n",
      "Epoch [3/10], Loss: 0.0086, Accuracy: 0.9975\n",
      "Epoch [4/10], Loss: 0.0020, Accuracy: 1.0000\n",
      "Epoch [5/10], Loss: 0.0011, Accuracy: 1.0000\n",
      "Epoch [6/10], Loss: 0.0008, Accuracy: 1.0000\n",
      "Epoch [7/10], Loss: 0.0006, Accuracy: 1.0000\n",
      "Epoch [8/10], Loss: 0.0004, Accuracy: 1.0000\n",
      "Epoch [9/10], Loss: 0.0003, Accuracy: 1.0000\n",
      "Epoch [10/10], Loss: 0.0003, Accuracy: 1.0000\n",
      "time: 2.69 s (started: 2025-01-24 07:11:11 +00:00)\n"
     ]
    }
   ],
   "source": [
    "epochs = 10\n",
    "eval_losses = []\n",
    "eval_accu = []\n",
    "\n",
    "for epoch in range(epochs):\n",
    "    model.train()\n",
    "    epoch_loss = 0\n",
    "    correct_predictions = 0\n",
    "    total_samples = 0\n",
    "\n",
    "    for batch_idx, (data, target) in enumerate(train_loader):\n",
    "        data, target = data.to(device), target.to(device)  # Move data to the device\n",
    "\n",
    "        optimizer.zero_grad()  # Clear gradients from the previous iteration\n",
    "        output = model(data)  # Forward pass\n",
    "        batch_loss = loss_fn(output , target.unsqueeze(1).float())  # Calculate loss\n",
    "        batch_loss.backward()  # Backward pass (calculate gradients)\n",
    "        optimizer.step()  # Update model weights\n",
    "\n",
    "        epoch_loss += batch_loss.item()\n",
    "\n",
    "        # Calculate accuracy\n",
    "        predicted = torch.round(output)\n",
    "        total_samples += target.size(0)\n",
    "        correct_predictions += (predicted == target.unsqueeze(1)).sum().item()\n",
    "\n",
    "    epoch_loss /= len(train_loader)\n",
    "    epoch_accuracy = correct_predictions / total_samples\n",
    "    eval_losses.append(epoch_loss)\n",
    "    eval_accu.append(epoch_accuracy)\n",
    "\n",
    "    print(f\"Epoch [{epoch+1}/{epochs}], Loss: {epoch_loss:.4f}, Accuracy: {epoch_accuracy:.4f}\")\n"
   ]
  },
  {
   "cell_type": "markdown",
   "metadata": {
    "collapsed": false,
    "id": "bkNYD1oRU8GK",
    "pycharm": {
     "name": "#%% md\n"
    }
   },
   "source": [
    "### Loss and Accuracy Visualization\n",
    "Show  on plot the lose during training"
   ]
  },
  {
   "cell_type": "code",
   "execution_count": null,
   "metadata": {
    "colab": {
     "base_uri": "https://localhost:8080/"
    },
    "id": "iM8si3EBU8GK",
    "outputId": "4d0a9474-74d0-40e7-b497-005141523d8d",
    "pycharm": {
     "name": "#%%\n"
    }
   },
   "outputs": [
    {
     "data": {
      "text/plain": [
       "Text(0, 0.5, 'Loss')"
      ]
     },
     "execution_count": 19,
     "metadata": {},
     "output_type": "execute_result"
    },
    {
     "data": {
      "image/png": "[encoded data removed]",
      "text/plain": [
       "<Figure size 1000x500 with 1 Axes>"
      ]
     },
     "metadata": {},
     "output_type": "display_data"
    },
    {
     "name": "stdout",
     "output_type": "stream",
     "text": [
      "time: 346 ms (started: 2025-01-24 07:11:13 +00:00)\n"
     ]
    }
   ],
   "source": [
    "import matplotlib.pyplot as plt\n",
    "\n",
    "plt.figure(figsize=(10, 5))\n",
    "plt.subplot(1, 2, 1)\n",
    "plt.plot(eval_losses)\n",
    "plt.title('Training Loss')\n",
    "plt.xlabel('Epoch')\n",
    "plt.ylabel('Loss')\n"
   ]
  },
  {
   "cell_type": "markdown",
   "metadata": {
    "collapsed": false,
    "id": "w4JBO5zuU8GK",
    "pycharm": {
     "name": "#%% md\n"
    }
   },
   "source": [
    "Show  on plot the accuracy during training"
   ]
  },
  {
   "cell_type": "code",
   "execution_count": null,
   "metadata": {
    "colab": {
     "base_uri": "https://localhost:8080/"
    },
    "id": "hOCsxuuTU8GK",
    "outputId": "2f86bc08-3405-4b48-9d75-418854d42ffe",
    "pycharm": {
     "name": "#%%\n"
    }
   },
   "outputs": [
    {
     "data": {
      "text/plain": [
       "Text(0, 0.5, 'Accuracy')"
      ]
     },
     "execution_count": 20,
     "metadata": {},
     "output_type": "execute_result"
    },
    {
     "data": {
      "image/png": "[encoded data removed]",
      "text/plain": [
       "<Figure size 640x480 with 1 Axes>"
      ]
     },
     "metadata": {},
     "output_type": "display_data"
    },
    {
     "name": "stdout",
     "output_type": "stream",
     "text": [
      "time: 673 ms (started: 2025-01-24 07:11:14 +00:00)\n"
     ]
    }
   ],
   "source": [
    "plt.subplot(1, 2, 2)\n",
    "plt.plot(eval_accu)\n",
    "plt.title('Training Accuracy')\n",
    "plt.xlabel('Epoch')\n",
    "plt.ylabel('Accuracy')"
   ]
  },
  {
   "cell_type": "markdown",
   "metadata": {
    "id": "vEAZg1JdIImC"
   },
   "source": [
    "#### Training results:\n",
    "We can see that the loss is converging to 0 and the accurcy is converging to 1.\n",
    "\n",
    "Both are good signs!"
   ]
  },
  {
   "cell_type": "markdown",
   "metadata": {
    "collapsed": false,
    "id": "SAUlD1ypU8GL",
    "pycharm": {
     "name": "#%% md\n"
    }
   },
   "source": [
    "## Testing and Evaluating\n"
   ]
  },
  {
   "cell_type": "code",
   "execution_count": null,
   "metadata": {
    "colab": {
     "base_uri": "https://localhost:8080/"
    },
    "id": "rukB7UefU8GL",
    "outputId": "e4f08f28-00ae-4607-bef9-b8a1be70f39a",
    "pycharm": {
     "name": "#%%\n"
    }
   },
   "outputs": [
    {
     "name": "stdout",
     "output_type": "stream",
     "text": [
      "Test Accuracy: 1.0000\n",
      "time: 68.9 ms (started: 2025-01-24 07:11:14 +00:00)\n"
     ]
    }
   ],
   "source": [
    "from sklearn.metrics import accuracy_score\n",
    "\n",
    "model.eval()\n",
    "y_true = []\n",
    "y_pred = []\n",
    "\n",
    "with torch.no_grad():\n",
    "    for data, target in test_loader:\n",
    "        data, target = data.to(device), target.to(device)\n",
    "        output = model(data)\n",
    "        predicted = torch.round(output)\n",
    "\n",
    "        y_true.extend(target.cpu().numpy())  # Move target to CPU and convert to NumPy\n",
    "        y_pred.extend(predicted.cpu().numpy().squeeze())  # Move predicted to CPU, convert to NumPy, and squeeze\n",
    "\n",
    "accuracy = accuracy_score(y_true, y_pred)\n",
    "print(f\"Test Accuracy: {accuracy:.4f}\")\n"
   ]
  },
  {
   "cell_type": "markdown",
   "metadata": {
    "id": "EN7H7pg2JhDv"
   },
   "source": []
  },
  {
   "cell_type": "markdown",
   "metadata": {
    "collapsed": false,
    "id": "ClevveJ3U8GL",
    "pycharm": {
     "name": "#%% md\n"
    }
   },
   "source": [
    "### Model Evaluation"
   ]
  },
  {
   "cell_type": "code",
   "execution_count": null,
   "metadata": {
    "colab": {
     "base_uri": "https://localhost:8080/"
    },
    "id": "KHQVaRZKU8GL",
    "outputId": "a2b3d8a2-e5b2-45e0-b576-9418d74a9ade",
    "pycharm": {
     "name": "#%%\n"
    }
   },
   "outputs": [
    {
     "data": {
      "image/png": "[encoded data removed]",
      "text/plain": [
       "<Figure size 640x480 with 2 Axes>"
      ]
     },
     "metadata": {},
     "output_type": "display_data"
    },
    {
     "name": "stdout",
     "output_type": "stream",
     "text": [
      "time: 560 ms (started: 2025-01-24 07:11:14 +00:00)\n"
     ]
    }
   ],
   "source": [
    "from sklearn.metrics import confusion_matrix, ConfusionMatrixDisplay\n",
    "import itertools\n",
    "\n",
    "\n",
    "cm = confusion_matrix(y_true, y_pred)\n",
    "cm_display = ConfusionMatrixDisplay(cm, display_labels=[0, 1])\n",
    "\n",
    "# Plot Confusion Matrix\n",
    "cm_display.plot(cmap=plt.cm.Blues)\n",
    "plt.title('Confusion Matrix')\n",
    "plt.show()\n"
   ]
  },
  {
   "cell_type": "markdown",
   "metadata": {
    "id": "bT5jZzTxJnKO"
   },
   "source": [
    "#### Testing and evaluating results\n",
    "Looks like our model did super well!"
   ]
  },
  {
   "cell_type": "markdown",
   "metadata": {
    "id": "s6_ug9JLjmM8"
   },
   "source": [
    "---\n",
    "<br>\n",
    "\n",
    "\n",
    "# Neural Network with PyTorch part 2 (Multiclass Classification)"
   ]
  },
  {
   "cell_type": "markdown",
   "metadata": {
    "id": "Dn9kBnoOkJ7B"
   },
   "source": [
    "## Import Libraries"
   ]
  },
  {
   "cell_type": "code",
   "execution_count": null,
   "metadata": {
    "colab": {
     "base_uri": "https://localhost:8080/"
    },
    "id": "0L5QXTC5kK9F",
    "outputId": "f4d8ed63-e0df-42f7-a054-85c284a00927"
   },
   "outputs": [
    {
     "name": "stdout",
     "output_type": "stream",
     "text": [
      "time: 683 µs (started: 2025-01-24 07:11:15 +00:00)\n"
     ]
    }
   ],
   "source": [
    "import torch\n",
    "from sklearn.model_selection import train_test_split\n",
    "import matplotlib.pyplot as plt\n",
    "import numpy as np"
   ]
  },
  {
   "cell_type": "markdown",
   "metadata": {
    "id": "pcLzuIa3kOQ_"
   },
   "source": [
    "## Data preprocessing\n"
   ]
  },
  {
   "cell_type": "code",
   "execution_count": null,
   "metadata": {
    "colab": {
     "base_uri": "https://localhost:8080/"
    },
    "id": "B0z91q_6kUPh",
    "outputId": "7218b89a-673e-4f92-d7f2-fd87c18d26f5"
   },
   "outputs": [
    {
     "name": "stdout",
     "output_type": "stream",
     "text": [
      "Dataset shape: (5000, 784)\n",
      "Labels shape: (5000,)\n",
      "time: 236 ms (started: 2025-01-24 07:11:15 +00:00)\n"
     ]
    }
   ],
   "source": [
    "loaded_data = np.load('/content/dataset_labels.npz')\n",
    "X, y = loaded_data['dataset'], loaded_data['labels']\n",
    "print(f'Dataset shape: {X.shape}\\nLabels shape: {y.shape}')"
   ]
  },
  {
   "cell_type": "markdown",
   "metadata": {
    "id": "Fkv434xbnak7"
   },
   "source": [
    "### Create normalized datasets and loaders"
   ]
  },
  {
   "cell_type": "markdown",
   "metadata": {
    "id": "O_r-D_egJ85B"
   },
   "source": [
    "In this code section we would:\n",
    "\n",
    "1. Create a data set from the data and normalize the data in that set.\n",
    "2. Split the data to train test and validation sets.\n",
    "3. Create datat loaders for those data sets."
   ]
  },
  {
   "cell_type": "code",
   "execution_count": null,
   "metadata": {
    "colab": {
     "base_uri": "https://localhost:8080/"
    },
    "id": "CZfZ4-OXnrRT",
    "outputId": "b5298708-4d32-49bc-a6f6-eb82b8f7076e"
   },
   "outputs": [
    {
     "name": "stdout",
     "output_type": "stream",
     "text": [
      "Train size: 4000 \n",
      "Validation size: 500 \n",
      "Test size: 500\n",
      "time: 39.3 ms (started: 2025-01-24 07:11:15 +00:00)\n"
     ]
    }
   ],
   "source": [
    "from torch.utils.data import Dataset, random_split, DataLoader, RandomSampler\n",
    "\n",
    "\n",
    "class SignDigitDataset(Dataset):\n",
    "    def __init__(self, x, y):\n",
    "        self.x = torch.tensor(x / 255, dtype=torch.float32)  # Normalize x\n",
    "        self.y = torch.tensor(y.astype(int), dtype=torch.long)  # Convert y to integers\n",
    "\n",
    "    def __len__(self):\n",
    "        return len(self.x)\n",
    "\n",
    "    def __getitem__(self, idx):\n",
    "        return self.x[idx], self.y[idx]\n",
    "\n",
    "\n",
    "dataset = SignDigitDataset(X, y)\n",
    "\n",
    "train_size = int(0.8 * len(dataset))\n",
    "val_size = int(0.1 * len(dataset))\n",
    "test_size = len(dataset) - train_size - val_size\n",
    "\n",
    "train_dataset, val_dataset, test_dataset = random_split(dataset, [train_size, val_size, test_size])\n",
    "\n",
    "print(f'Train size: {len(train_dataset)} \\nValidation size: {len(val_dataset)} \\nTest size: {len(test_dataset)}')\n",
    "\n",
    "train_loader = DataLoader(train_dataset, batch_size=32, sampler=RandomSampler(train_dataset))\n",
    "val_loader = DataLoader(val_dataset, batch_size=32)\n",
    "test_loader = DataLoader(test_dataset, batch_size=32)"
   ]
  },
  {
   "cell_type": "markdown",
   "metadata": {
    "id": "xMTvB9TolhcG"
   },
   "source": [
    "## Models"
   ]
  },
  {
   "cell_type": "markdown",
   "metadata": {
    "id": "rOqJ_9CGk3h9"
   },
   "source": [
    "### Base Model\n",
    "\n",
    "\n",
    "* **Architecture:**\n",
    "    - Input layer: 784 neurons (for the flattened 28x28 image)\n",
    "    - Hidden layer 1: 128 neurons, ReLU activation\n",
    "    - Hidden layer 2: 64 neurons, ReLU activation\n",
    "    - Output layer: 10 neurons (for the 10 classes), Softmax activation\n",
    "* **Loss function:** `nn.CrossEntropyLoss()` (suitable for multi-class classification)\n",
    "* **Optimizer:** `optim.Adam()` with a default learning rate (you can adjust this later)\n",
    "* **Epochs:** `10`\n",
    "* **Batch size:** `32` (a common starting point)\n",
    "\n",
    "**Rationale:**\n",
    "\n",
    "* This is a simple feedforward neural network with a few hidden layers. It's a good starting point to establish a baseline performance.\n",
    "* ReLU is a commonly used as non linear activation function that generally works well.\n",
    "* Softmax is used in the output layer to produce probabilities for each class.\n",
    "* `CrossEntropyLoss` is the standard loss function for multi-class classification.\n",
    "* Adam is a popular optimizer that often performs well.\n",
    "\n",
    "\n"
   ]
  },
  {
   "cell_type": "code",
   "execution_count": null,
   "metadata": {
    "colab": {
     "base_uri": "https://localhost:8080/"
    },
    "id": "UZJghTW5Scb2",
    "outputId": "d9a166c0-c573-4c11-932c-722e665aa5a8"
   },
   "outputs": [
    {
     "name": "stdout",
     "output_type": "stream",
     "text": [
      "time: 10.2 ms (started: 2025-01-24 07:11:15 +00:00)\n"
     ]
    }
   ],
   "source": [
    "import torch\n",
    "import torch.nn as nn\n",
    "import torch.optim as optim\n",
    "\n",
    "class BaseModel(nn.Module):\n",
    "    def __init__(self):\n",
    "        super(BaseModel, self).__init__()\n",
    "        self.fc1 = nn.Linear(784, 128)\n",
    "        self.relu1 = nn.ReLU()\n",
    "        self.fc2 = nn.Linear(128, 64)\n",
    "        self.relu2 = nn.ReLU()\n",
    "        self.fc3 = nn.Linear(64, 10)\n",
    "        self.softmax = nn.Softmax(dim=1)\n",
    "\n",
    "    def forward(self, x):\n",
    "        x = x.view(-1, 784)\n",
    "        x = self.relu1(self.fc1(x))\n",
    "        x = self.relu2(self.fc2(x))\n",
    "        x = self.softmax(self.fc3(x))\n",
    "        return x\n",
    "\n",
    "\n",
    "base_model = BaseModel()\n",
    "\n",
    "base_optimizer = optim.Adam(base_model.parameters())\n",
    "\n",
    "base_loss_function = nn.CrossEntropyLoss()"
   ]
  },
  {
   "cell_type": "markdown",
   "metadata": {
    "id": "eKieQwhOlA3m"
   },
   "source": [
    "### Experiment number 1\n",
    "\n",
    "**Changes compared to the Base Model:** <Br>\n",
    "Added a third fully connected layer (`self.fc3`) with 32 neurons.\n",
    "\n",
    "**Rational:** <br>\n",
    "Deeper networks have the potential to learn more complex representations of the input data. Each layer can learn increasingly abstract features from the previous layer's output. In our case, by adding a third hidden layer with 32 neurons, we aim to investigate whether this increased depth allows the model to capture finer details in the hand gesture images, potentially leading to improved classification accuracy.\n",
    "\n",
    "**Potential Downside:** <br>\n",
    "Adding more layers also increases the number of parameters in the model, which can lead to overfitting, especially with limited data. However, as per the instructions, we are not addressing overfitting directly in these experiments (no regularization, dropout etc). We are simply observing the effects of the architectural change.\n",
    "\n",
    "\n"
   ]
  },
  {
   "cell_type": "code",
   "execution_count": null,
   "metadata": {
    "colab": {
     "base_uri": "https://localhost:8080/"
    },
    "id": "AP0nu25-WG97",
    "outputId": "c65b6f93-0f04-4dce-8edb-15adc7e80bad"
   },
   "outputs": [
    {
     "name": "stdout",
     "output_type": "stream",
     "text": [
      "time: 11.7 ms (started: 2025-01-24 07:11:15 +00:00)\n"
     ]
    }
   ],
   "source": [
    "class Experiment1Model(nn.Module):\n",
    "    def __init__(self):\n",
    "        super(Experiment1Model, self).__init__()\n",
    "        self.fc1 = nn.Linear(784, 128)\n",
    "        self.relu1 = nn.ReLU()\n",
    "        self.fc2 = nn.Linear(128, 64)\n",
    "        self.relu2 = nn.ReLU()\n",
    "        self.fc3 = nn.Linear(64, 32)  # Added another hidden layer\n",
    "        self.relu3 = nn.ELU()\n",
    "        self.fc4 = nn.Linear(32, 10)\n",
    "        self.softmax = nn.Softmax(dim=1)\n",
    "\n",
    "    def forward(self, x):\n",
    "        x = x.view(-1, 784)\n",
    "        x = self.relu1(self.fc1(x))\n",
    "        x = self.relu2(self.fc2(x))\n",
    "        x = self.relu3(self.fc3(x))\n",
    "        x = self.softmax(self.fc4(x))\n",
    "        return x\n",
    "\n",
    "\n",
    "exp1_model = Experiment1Model()\n",
    "\n",
    "exp1_optimizer = optim.Adam(exp1_model.parameters())\n",
    "\n",
    "exp1_loss_function = base_loss_function"
   ]
  },
  {
   "cell_type": "markdown",
   "metadata": {
    "id": "SK-L3P-XlDSQ"
   },
   "source": [
    "### Experiment number 2\n",
    "\n",
    "**Changes compared to the Base Model:** <br>\n",
    "Learning Rate 0.001 -> 0.01. <br>\n",
    "**Rational:** <br>\n",
    "Increasing the learning rate means the optimizer will take larger steps. This could potentially speed up the training process and help the model converge faster. If the original learning rate was too small, the model might have been stuck in a shallow local minimum. A larger learning rate could help it escape this minimum and find a better solution.<br>\n",
    "**Potential downsides** <br>\n",
    "A learning rate of 0.01 might be too large, causing the optimization to become unstable. The model's loss could start to fluctuate significantly or even diverge, preventing it from learning effectively. Therefore, it's essential to compare the results with the original learning rate to see if the change is beneficial.\n"
   ]
  },
  {
   "cell_type": "code",
   "execution_count": null,
   "metadata": {
    "colab": {
     "base_uri": "https://localhost:8080/"
    },
    "id": "rW2KoOF7Yg70",
    "outputId": "f0e1f8eb-1475-4c7d-dbe5-e1ebf6b506ef"
   },
   "outputs": [
    {
     "name": "stdout",
     "output_type": "stream",
     "text": [
      "time: 21 ms (started: 2025-01-24 07:11:15 +00:00)\n"
     ]
    }
   ],
   "source": [
    "class Experiment2Model(nn.Module):\n",
    "    def __init__(self):\n",
    "        super(Experiment2Model, self).__init__()\n",
    "        self.fc1 = nn.Linear(784, 128)\n",
    "        self.relu1 = nn.ReLU()\n",
    "        self.fc2 = nn.Linear(128, 64)\n",
    "        self.relu2 = nn.ReLU()\n",
    "        self.fc3 = nn.Linear(64, 10)\n",
    "        self.softmax = nn.Softmax(dim=1)\n",
    "\n",
    "    def forward(self, x):\n",
    "        x = x.view(-1, 784)\n",
    "        x = self.relu1(self.fc1(x))\n",
    "        x = self.relu2(self.fc2(x))\n",
    "        x = self.softmax(self.fc3(x))\n",
    "        return x\n",
    "\n",
    "\n",
    "exp2_model = Experiment2Model()\n",
    "\n",
    "\n",
    "exp2_optimizer = optim.Adam(exp2_model.parameters(), lr=0.01)\n",
    "\n",
    "\n",
    "exp2_loss_function = nn.CrossEntropyLoss()"
   ]
  },
  {
   "cell_type": "markdown",
   "metadata": {
    "id": "m1Z7h8eIcQhS"
   },
   "source": [
    "\n",
    "## Train test and compare the models!"
   ]
  },
  {
   "cell_type": "markdown",
   "metadata": {
    "id": "QgM22IpSdJeU"
   },
   "source": [
    "The following is a generic train function we will use to train all of our\n",
    "models.\n",
    "\n",
    "**note** that this function includes accuracy and loss charts  "
   ]
  },
  {
   "cell_type": "code",
   "execution_count": null,
   "metadata": {
    "colab": {
     "base_uri": "https://localhost:8080/"
    },
    "id": "X7JleSZCLZQc",
    "outputId": "883c4a82-f1f4-48c0-f17c-1314759c336e"
   },
   "outputs": [
    {
     "name": "stdout",
     "output_type": "stream",
     "text": [
      "time: 732 µs (started: 2025-01-24 07:11:16 +00:00)\n"
     ]
    }
   ],
   "source": [
    "def calculate_accuracy(output, target):\n",
    "    _, predicted = torch.max(output.data, 1)\n",
    "    total_samples = target.size(0)\n",
    "    correct_predictions = (predicted == target).sum().item()\n",
    "    return correct_predictions / total_samples"
   ]
  },
  {
   "cell_type": "code",
   "execution_count": null,
   "metadata": {
    "colab": {
     "base_uri": "https://localhost:8080/"
    },
    "id": "Iqs3ZAAuLeGi",
    "outputId": "2794f651-5ec1-4342-f58f-361c437f08e5"
   },
   "outputs": [
    {
     "name": "stdout",
     "output_type": "stream",
     "text": [
      "time: 1.11 ms (started: 2025-01-24 07:11:16 +00:00)\n"
     ]
    }
   ],
   "source": [
    "def train_epoch(model, optimizer, loss_fun, data_loader, device):\n",
    "    model.train()\n",
    "    epoch_loss = 0\n",
    "    epoch_accuracy = 0\n",
    "\n",
    "    for batch_idx, (data, target) in enumerate(data_loader):\n",
    "        data, target = data.to(device), target.to(device)\n",
    "\n",
    "        optimizer.zero_grad()\n",
    "        output = model(data)\n",
    "        loss = loss_fun(output, target)\n",
    "        loss.backward()\n",
    "        optimizer.step()\n",
    "\n",
    "        epoch_loss += loss.item()\n",
    "        epoch_accuracy += calculate_accuracy(output, target)\n",
    "\n",
    "    return epoch_loss / len(data_loader), epoch_accuracy / len(data_loader)\n"
   ]
  },
  {
   "cell_type": "code",
   "execution_count": null,
   "metadata": {
    "colab": {
     "base_uri": "https://localhost:8080/"
    },
    "id": "opD5LIsTLiSM",
    "outputId": "28d4894a-0837-4fbc-a24f-23b39ad7351c"
   },
   "outputs": [
    {
     "name": "stdout",
     "output_type": "stream",
     "text": [
      "time: 3.12 ms (started: 2025-01-24 07:11:16 +00:00)\n"
     ]
    }
   ],
   "source": [
    "def validate_epoch(model, loss_fun, data_loader, device):\n",
    "    model.eval()\n",
    "    epoch_loss = 0\n",
    "    epoch_accuracy = 0\n",
    "\n",
    "    with torch.no_grad():\n",
    "        for data, target in data_loader:\n",
    "            data, target = data.to(device), target.to(device)\n",
    "            output = model(data)\n",
    "            loss = loss_fun(output, target)\n",
    "            epoch_loss += loss.item()\n",
    "            epoch_accuracy += calculate_accuracy(output, target)\n",
    "\n",
    "    return epoch_loss / len(data_loader), epoch_accuracy / len(data_loader)"
   ]
  },
  {
   "cell_type": "code",
   "execution_count": null,
   "metadata": {
    "colab": {
     "base_uri": "https://localhost:8080/"
    },
    "id": "giBUTNjtMCSC",
    "outputId": "72c3d092-d078-48a0-b462-5c79ef1a6128"
   },
   "outputs": [
    {
     "name": "stdout",
     "output_type": "stream",
     "text": [
      "time: 1.14 ms (started: 2025-01-24 07:11:16 +00:00)\n"
     ]
    }
   ],
   "source": [
    "from sklearn.metrics import classification_report\n",
    "\n",
    "def generate_classification_report(model, data_loader, device):\n",
    "    y_true = []\n",
    "    y_pred = []\n",
    "    with torch.no_grad():\n",
    "        for data, target in data_loader:\n",
    "            data, target = data.to(device), target.to(device)\n",
    "            output = model(data)\n",
    "            _, predicted = torch.max(output.data, 1)\n",
    "            y_true.extend(target.cpu().numpy())\n",
    "            y_pred.extend(predicted.cpu().numpy())\n",
    "    print(classification_report(y_true, y_pred))"
   ]
  },
  {
   "cell_type": "code",
   "execution_count": null,
   "metadata": {
    "colab": {
     "base_uri": "https://localhost:8080/"
    },
    "id": "zltMWuEycUCM",
    "outputId": "880cc634-eefc-4dc9-9be5-bb8b281c397c"
   },
   "outputs": [
    {
     "name": "stdout",
     "output_type": "stream",
     "text": [
      "time: 2.79 ms (started: 2025-01-24 07:11:16 +00:00)\n"
     ]
    }
   ],
   "source": [
    "from sklearn.metrics import classification_report\n",
    "\n",
    "def train_model(model, optimizer, loss_fun, epochs, model_name):\n",
    "    device = torch.device(\"cuda\" if torch.cuda.is_available() else \"cpu\")\n",
    "    print(f\"Using device: {device}\")\n",
    "    model.to(device)\n",
    "\n",
    "    train_losses = []\n",
    "    train_accuracies = []\n",
    "    val_losses = []\n",
    "    val_accuracies = []\n",
    "\n",
    "    for epoch in range(epochs):\n",
    "        train_loss, train_acc = train_epoch(model, optimizer, loss_fun, train_loader, device)\n",
    "        val_loss, val_acc = validate_epoch(model, loss_fun, val_loader, device)\n",
    "\n",
    "        train_losses.append(train_loss)\n",
    "        train_accuracies.append(train_acc)\n",
    "        val_losses.append(val_loss)\n",
    "        val_accuracies.append(val_acc)\n",
    "\n",
    "        print(f\"Epoch [{epoch+1}/{epochs}], \"\n",
    "              f\"Train Loss: {train_loss:.4f}, Train Accuracy: {train_acc:.4f}, \"\n",
    "              f\"Val Loss: {val_loss:.4f}, Val Accuracy: {val_acc:.4f}\")\n",
    "\n",
    "    # Visualization\n",
    "    plt.figure(figsize=(10, 5))\n",
    "    plt.subplot(1, 2, 1)\n",
    "    plt.plot(train_losses, label='Train')\n",
    "    plt.plot(val_losses, label='Validation')\n",
    "    plt.title(f'{model_name} - Loss')\n",
    "    plt.xlabel('Epoch')\n",
    "    plt.ylabel('Loss')\n",
    "    plt.legend()\n",
    "\n",
    "    plt.subplot(1, 2, 2)\n",
    "    plt.plot(train_accuracies, label='Train')\n",
    "    plt.plot(val_accuracies, label='Validation')\n",
    "    plt.title(f'{model_name} - Accuracy')\n",
    "    plt.xlabel('Epoch')\n",
    "    plt.ylabel('Accuracy')\n",
    "    plt.legend()\n",
    "\n",
    "    plt.tight_layout()\n",
    "    plt.show()\n",
    "\n",
    "    generate_classification_report(model, test_loader, device);"
   ]
  },
  {
   "cell_type": "markdown",
   "metadata": {
    "id": "ZzPgLQLzeiIT"
   },
   "source": [
    "#### Base model - train"
   ]
  },
  {
   "cell_type": "code",
   "execution_count": null,
   "metadata": {
    "colab": {
     "base_uri": "https://localhost:8080/",
     "height": 1000
    },
    "id": "sJ-eVTFPcfwF",
    "outputId": "77e31304-54ee-4d55-b182-968306fb5d54"
   },
   "outputs": [
    {
     "name": "stdout",
     "output_type": "stream",
     "text": [
      "Using device: cpu\n",
      "Epoch [1/10], Train Loss: 2.0742, Train Accuracy: 0.4375, Val Loss: 1.8031, Val Accuracy: 0.7789\n",
      "Epoch [2/10], Train Loss: 1.6923, Train Accuracy: 0.8353, Val Loss: 1.6250, Val Accuracy: 0.8859\n",
      "Epoch [3/10], Train Loss: 1.5838, Train Accuracy: 0.9183, Val Loss: 1.5640, Val Accuracy: 0.9324\n",
      "Epoch [4/10], Train Loss: 1.5500, Train Accuracy: 0.9377, Val Loss: 1.5346, Val Accuracy: 0.9531\n",
      "Epoch [5/10], Train Loss: 1.5205, Train Accuracy: 0.9605, Val Loss: 1.5296, Val Accuracy: 0.9512\n",
      "Epoch [6/10], Train Loss: 1.5048, Train Accuracy: 0.9735, Val Loss: 1.5148, Val Accuracy: 0.9590\n",
      "Epoch [7/10], Train Loss: 1.4960, Train Accuracy: 0.9768, Val Loss: 1.5007, Val Accuracy: 0.9746\n",
      "Epoch [8/10], Train Loss: 1.4906, Train Accuracy: 0.9805, Val Loss: 1.4972, Val Accuracy: 0.9734\n",
      "Epoch [9/10], Train Loss: 1.4820, Train Accuracy: 0.9875, Val Loss: 1.4977, Val Accuracy: 0.9746\n",
      "Epoch [10/10], Train Loss: 1.4801, Train Accuracy: 0.9880, Val Loss: 1.4976, Val Accuracy: 0.9727\n"
     ]
    },
    {
     "data": {
      "image/png": "[encoded data removed]",
      "text/plain": [
       "<Figure size 1000x500 with 2 Axes>"
      ]
     },
     "metadata": {},
     "output_type": "display_data"
    },
    {
     "name": "stdout",
     "output_type": "stream",
     "text": [
      "              precision    recall  f1-score   support\n",
      "\n",
      "           0       1.00      1.00      1.00        59\n",
      "           1       0.96      1.00      0.98        52\n",
      "           2       1.00      0.98      0.99        58\n",
      "           3       0.98      0.96      0.97        45\n",
      "           4       0.96      0.91      0.93        47\n",
      "           5       1.00      0.96      0.98        49\n",
      "           6       0.98      0.98      0.98        45\n",
      "           7       0.88      0.98      0.93        46\n",
      "           8       0.93      0.96      0.95        45\n",
      "           9       0.98      0.94      0.96        54\n",
      "\n",
      "    accuracy                           0.97       500\n",
      "   macro avg       0.97      0.97      0.97       500\n",
      "weighted avg       0.97      0.97      0.97       500\n",
      "\n",
      "time: 13.3 s (started: 2025-01-24 07:11:16 +00:00)\n"
     ]
    }
   ],
   "source": [
    "%%script echo skipping\n",
    "train_model(base_model, base_optimizer, base_loss_function, 10, \"Base Model\")"
   ]
  },
  {
   "cell_type": "markdown",
   "metadata": {
    "id": "2z0mT8rgeuHo"
   },
   "source": [
    "#### Experiment number 1 - train"
   ]
  },
  {
   "cell_type": "code",
   "execution_count": null,
   "metadata": {
    "colab": {
     "base_uri": "https://localhost:8080/",
     "height": 1000
    },
    "id": "9sr8qeVhdQiX",
    "outputId": "5be204c3-9330-427d-ad3f-fce17c02d431"
   },
   "outputs": [
    {
     "name": "stdout",
     "output_type": "stream",
     "text": [
      "Using device: cpu\n",
      "Epoch [1/10], Train Loss: 2.0899, Train Accuracy: 0.4065, Val Loss: 1.8229, Val Accuracy: 0.6867\n",
      "Epoch [2/10], Train Loss: 1.7252, Train Accuracy: 0.7705, Val Loss: 1.6618, Val Accuracy: 0.8320\n",
      "Epoch [3/10], Train Loss: 1.6327, Train Accuracy: 0.8488, Val Loss: 1.6109, Val Accuracy: 0.8652\n",
      "Epoch [4/10], Train Loss: 1.6102, Train Accuracy: 0.8638, Val Loss: 1.6018, Val Accuracy: 0.8691\n",
      "Epoch [5/10], Train Loss: 1.5935, Train Accuracy: 0.8762, Val Loss: 1.5977, Val Accuracy: 0.8711\n",
      "Epoch [6/10], Train Loss: 1.5861, Train Accuracy: 0.8805, Val Loss: 1.5869, Val Accuracy: 0.8789\n",
      "Epoch [7/10], Train Loss: 1.5808, Train Accuracy: 0.8860, Val Loss: 1.5918, Val Accuracy: 0.8758\n",
      "Epoch [8/10], Train Loss: 1.5784, Train Accuracy: 0.8862, Val Loss: 1.5810, Val Accuracy: 0.8828\n",
      "Epoch [9/10], Train Loss: 1.5727, Train Accuracy: 0.8898, Val Loss: 1.5788, Val Accuracy: 0.8848\n",
      "Epoch [10/10], Train Loss: 1.5773, Train Accuracy: 0.8870, Val Loss: 1.5804, Val Accuracy: 0.8828\n"
     ]
    },
    {
     "data": {
      "image/png": "[encoded data removed]",
      "text/plain": [
       "<Figure size 1000x500 with 2 Axes>"
      ]
     },
     "metadata": {},
     "output_type": "display_data"
    },
    {
     "name": "stdout",
     "output_type": "stream",
     "text": [
      "              precision    recall  f1-score   support\n",
      "\n",
      "           0       1.00      1.00      1.00        59\n",
      "           1       1.00      1.00      1.00        52\n",
      "           2       1.00      0.98      0.99        58\n",
      "           3       0.98      0.93      0.95        45\n",
      "           4       0.81      0.98      0.88        47\n",
      "           5       0.94      0.96      0.95        49\n",
      "           6       1.00      0.91      0.95        45\n",
      "           7       0.61      0.98      0.75        46\n",
      "           8       0.00      0.00      0.00        45\n",
      "           9       0.81      1.00      0.89        54\n",
      "\n",
      "    accuracy                           0.89       500\n",
      "   macro avg       0.81      0.87      0.84       500\n",
      "weighted avg       0.83      0.89      0.85       500\n",
      "\n",
      "time: 13.7 s (started: 2025-01-24 07:11:29 +00:00)\n"
     ]
    },
    {
     "name": "stderr",
     "output_type": "stream",
     "text": [
      "/usr/local/lib/python3.11/dist-packages/sklearn/metrics/_classification.py:1565: UndefinedMetricWarning: Precision is ill-defined and being set to 0.0 in labels with no predicted samples. Use `zero_division` parameter to control this behavior.\n",
      "  _warn_prf(average, modifier, f\"{metric.capitalize()} is\", len(result))\n",
      "/usr/local/lib/python3.11/dist-packages/sklearn/metrics/_classification.py:1565: UndefinedMetricWarning: Precision is ill-defined and being set to 0.0 in labels with no predicted samples. Use `zero_division` parameter to control this behavior.\n",
      "  _warn_prf(average, modifier, f\"{metric.capitalize()} is\", len(result))\n",
      "/usr/local/lib/python3.11/dist-packages/sklearn/metrics/_classification.py:1565: UndefinedMetricWarning: Precision is ill-defined and being set to 0.0 in labels with no predicted samples. Use `zero_division` parameter to control this behavior.\n",
      "  _warn_prf(average, modifier, f\"{metric.capitalize()} is\", len(result))\n"
     ]
    }
   ],
   "source": [
    "%%script echo skipping\n",
    "train_model(exp1_model, exp1_optimizer, exp1_loss_function, 10, \"Experiment 1\")"
   ]
  },
  {
   "cell_type": "markdown",
   "metadata": {
    "id": "L1Qe4Yt3fGpl"
   },
   "source": [
    "#### Experiment number 2 - train"
   ]
  },
  {
   "cell_type": "code",
   "execution_count": null,
   "metadata": {
    "colab": {
     "base_uri": "https://localhost:8080/",
     "height": 1000
    },
    "id": "0W6VVZvidWAV",
    "outputId": "00419bd3-f5a5-4709-c513-b069e3c37c61"
   },
   "outputs": [
    {
     "name": "stdout",
     "output_type": "stream",
     "text": [
      "Using device: cpu\n",
      "Epoch [1/10], Train Loss: 1.9715, Train Accuracy: 0.4873, Val Loss: 1.8943, Val Accuracy: 0.5629\n",
      "Epoch [2/10], Train Loss: 1.8197, Train Accuracy: 0.6405, Val Loss: 1.8258, Val Accuracy: 0.6316\n",
      "Epoch [3/10], Train Loss: 1.8093, Train Accuracy: 0.6512, Val Loss: 1.7702, Val Accuracy: 0.6887\n",
      "Epoch [4/10], Train Loss: 1.7788, Train Accuracy: 0.6810, Val Loss: 1.7625, Val Accuracy: 0.6949\n",
      "Epoch [5/10], Train Loss: 1.7555, Train Accuracy: 0.7035, Val Loss: 1.7084, Val Accuracy: 0.7512\n",
      "Epoch [6/10], Train Loss: 1.7313, Train Accuracy: 0.7295, Val Loss: 1.7881, Val Accuracy: 0.6684\n",
      "Epoch [7/10], Train Loss: 1.7502, Train Accuracy: 0.7100, Val Loss: 1.7729, Val Accuracy: 0.6852\n",
      "Epoch [8/10], Train Loss: 1.7797, Train Accuracy: 0.6807, Val Loss: 1.8255, Val Accuracy: 0.6363\n",
      "Epoch [9/10], Train Loss: 1.7321, Train Accuracy: 0.7278, Val Loss: 1.7754, Val Accuracy: 0.6863\n",
      "Epoch [10/10], Train Loss: 1.7217, Train Accuracy: 0.7398, Val Loss: 1.7652, Val Accuracy: 0.6957\n"
     ]
    },
    {
     "data": {
      "image/png": "[encoded data removed]",
      "text/plain": [
       "<Figure size 1000x500 with 2 Axes>"
      ]
     },
     "metadata": {},
     "output_type": "display_data"
    },
    {
     "name": "stdout",
     "output_type": "stream",
     "text": [
      "              precision    recall  f1-score   support\n",
      "\n",
      "           0       0.95      1.00      0.98        59\n",
      "           1       0.83      1.00      0.90        52\n",
      "           2       0.92      0.78      0.84        58\n",
      "           3       0.93      0.89      0.91        45\n",
      "           4       0.52      0.68      0.59        47\n",
      "           5       0.88      0.94      0.91        49\n",
      "           6       0.00      0.00      0.00        45\n",
      "           7       0.00      0.00      0.00        46\n",
      "           8       0.35      0.98      0.52        45\n",
      "           9       0.93      0.78      0.85        54\n",
      "\n",
      "    accuracy                           0.72       500\n",
      "   macro avg       0.63      0.70      0.65       500\n",
      "weighted avg       0.66      0.72      0.67       500\n",
      "\n",
      "time: 8.62 s (started: 2025-01-24 07:11:43 +00:00)\n"
     ]
    },
    {
     "name": "stderr",
     "output_type": "stream",
     "text": [
      "/usr/local/lib/python3.11/dist-packages/sklearn/metrics/_classification.py:1565: UndefinedMetricWarning: Precision is ill-defined and being set to 0.0 in labels with no predicted samples. Use `zero_division` parameter to control this behavior.\n",
      "  _warn_prf(average, modifier, f\"{metric.capitalize()} is\", len(result))\n",
      "/usr/local/lib/python3.11/dist-packages/sklearn/metrics/_classification.py:1565: UndefinedMetricWarning: Precision is ill-defined and being set to 0.0 in labels with no predicted samples. Use `zero_division` parameter to control this behavior.\n",
      "  _warn_prf(average, modifier, f\"{metric.capitalize()} is\", len(result))\n",
      "/usr/local/lib/python3.11/dist-packages/sklearn/metrics/_classification.py:1565: UndefinedMetricWarning: Precision is ill-defined and being set to 0.0 in labels with no predicted samples. Use `zero_division` parameter to control this behavior.\n",
      "  _warn_prf(average, modifier, f\"{metric.capitalize()} is\", len(result))\n"
     ]
    }
   ],
   "source": [
    "%%script echo skipping\n",
    "train_model(exp2_model, exp2_optimizer, exp2_loss_function, 10, \"Experiment 2\")"
   ]
  },
  {
   "cell_type": "markdown",
   "metadata": {
    "id": "5rE2nIidOb-A"
   },
   "source": []
  },
  {
   "cell_type": "markdown",
   "metadata": {
    "id": "zS3_ZnXk450S"
   },
   "source": [
    "### Save Trained model (your best model)\n",
    "\n",
    "From the results we got in the previous section, we have decided to stick with the `base model` as our best model do to the highest accuracy\n",
    "\n",
    "we did't want to give drive premissions downloaded the file and uploaded it manually."
   ]
  },
  {
   "cell_type": "code",
   "execution_count": null,
   "metadata": {
    "colab": {
     "base_uri": "https://localhost:8080/"
    },
    "id": "i-axzkg5PacK",
    "outputId": "4de2157d-d9f1-41cc-8fee-9531f7dd38eb"
   },
   "outputs": [
    {
     "name": "stdout",
     "output_type": "stream",
     "text": [
      "time: 235 µs (started: 2025-01-24 07:11:51 +00:00)\n"
     ]
    }
   ],
   "source": [
    "# from google.colab import drive\n",
    "# drive.mount('/content/drive')"
   ]
  },
  {
   "cell_type": "code",
   "execution_count": null,
   "metadata": {
    "colab": {
     "base_uri": "https://localhost:8080/"
    },
    "id": "Pb66kyHa5c-l",
    "outputId": "358796bc-6f34-4af0-ad44-3c4de3916538"
   },
   "outputs": [
    {
     "name": "stdout",
     "output_type": "stream",
     "text": [
      "time: 4.07 ms (started: 2025-01-24 07:11:51 +00:00)\n"
     ]
    }
   ],
   "source": [
    "torch.save(base_model.state_dict(), \"./current-base-model\")"
   ]
  },
  {
   "cell_type": "markdown",
   "metadata": {
    "id": "L0xlxiaj6xM4"
   },
   "source": [
    "## Test Environment (of part 2 only)\n",
    "This part is meant to show the tester how your model is performing. Keep in mind that the only cells he is going to run are the cells below."
   ]
  },
  {
   "cell_type": "markdown",
   "metadata": {
    "id": "-rMJ1ucy7lKB"
   },
   "source": [
    "### Load trained model"
   ]
  },
  {
   "cell_type": "markdown",
   "metadata": {
    "id": "v7KqmoDaSEPF"
   },
   "source": [
    "Recreate the model class (if you havent ran the the previous code)"
   ]
  },
  {
   "cell_type": "code",
   "execution_count": null,
   "metadata": {
    "colab": {
     "base_uri": "https://localhost:8080/"
    },
    "id": "ndyFs-Q7SCwk",
    "outputId": "74f7fdaf-6176-4a77-bdec-b4461da5e01f"
   },
   "outputs": [
    {
     "name": "stdout",
     "output_type": "stream",
     "text": [
      "time: 4.18 ms (started: 2025-01-24 07:11:51 +00:00)\n"
     ]
    }
   ],
   "source": [
    "import torch\n",
    "import torch.nn as nn\n",
    "import torch.optim as optim\n",
    "\n",
    "class BaseModel(nn.Module):\n",
    "    def __init__(self):\n",
    "        super(BaseModel, self).__init__()\n",
    "        self.fc1 = nn.Linear(784, 128)\n",
    "        self.relu1 = nn.ReLU()\n",
    "        self.fc2 = nn.Linear(128, 64)\n",
    "        self.relu2 = nn.ReLU()\n",
    "        self.fc3 = nn.Linear(64, 10)\n",
    "        self.softmax = nn.Softmax(dim=1)\n",
    "\n",
    "    def forward(self, x):\n",
    "        x = x.view(-1, 784)\n",
    "        x = self.relu1(self.fc1(x))\n",
    "        x = self.relu2(self.fc2(x))\n",
    "        x = self.softmax(self.fc3(x))\n",
    "        return x\n",
    "\n",
    "\n",
    "base_model = BaseModel()\n",
    "\n",
    "base_optimizer = optim.Adam(base_model.parameters())\n",
    "\n",
    "base_loss_function = nn.CrossEntropyLoss()"
   ]
  },
  {
   "cell_type": "code",
   "execution_count": null,
   "metadata": {
    "colab": {
     "base_uri": "https://localhost:8080/"
    },
    "id": "I27yHolJ7naT",
    "outputId": "f75a31f2-fab6-48bb-ae21-38816edbb267"
   },
   "outputs": [
    {
     "data": {
      "text/plain": [
       "BaseModel(\n",
       "  (fc1): Linear(in_features=784, out_features=128, bias=True)\n",
       "  (relu1): ReLU()\n",
       "  (fc2): Linear(in_features=128, out_features=64, bias=True)\n",
       "  (relu2): ReLU()\n",
       "  (fc3): Linear(in_features=64, out_features=10, bias=True)\n",
       "  (softmax): Softmax(dim=1)\n",
       ")"
      ]
     },
     "execution_count": 40,
     "metadata": {},
     "output_type": "execute_result"
    },
    {
     "name": "stdout",
     "output_type": "stream",
     "text": [
      "time: 7.52 ms (started: 2025-01-24 07:11:51 +00:00)\n"
     ]
    }
   ],
   "source": [
    "model = BaseModel()\n",
    "model.load_state_dict(torch.load(\"/content/drive-best-model\", weights_only=True))\n",
    "model.eval()"
   ]
  },
  {
   "cell_type": "markdown",
   "metadata": {
    "id": "5PSVr_J-_wmX"
   },
   "source": [
    "### Single prediction\n",
    "Let the tester examine your trained model on single predicttion test.<br>You will use the colab.file library to allow the tester to upload a single npy file of an Sign Language Digit (28x28 image as npy).<br>\n"
   ]
  },
  {
   "cell_type": "code",
   "execution_count": 39,
   "metadata": {
    "colab": {
     "base_uri": "https://localhost:8080/",
     "height": 497
    },
    "id": "Y7SBK56880aY",
    "outputId": "87f92b27-5226-4f93-bff0-52db0cc50cf9"
   },
   "outputs": [
    {
     "data": {
      "text/html": [
       "\n",
       "     <input type=\"file\" id=\"files-889d8f91-b44c-4c63-9d58-4457bb463536\" name=\"files[]\" multiple disabled\n",
       "        style=\"border:none\" />\n",
       "     <output id=\"result-889d8f91-b44c-4c63-9d58-4457bb463536\">\n",
       "      Upload widget is only available when the cell has been executed in the\n",
       "      current browser session. Please rerun this cell to enable.\n",
       "      </output>\n",
       "      <script>// Copyright 2017 Google LLC\n",
       "//\n",
       "// Licensed under the Apache License, Version 2.0 (the \"License\");\n",
       "// you may not use this file except in compliance with the License.\n",
       "// You may obtain a copy of the License at\n",
       "//\n",
       "//      http://www.apache.org/licenses/LICENSE-2.0\n",
       "//\n",
       "// Unless required by applicable law or agreed to in writing, software\n",
       "// distributed under the License is distributed on an \"AS IS\" BASIS,\n",
       "// WITHOUT WARRANTIES OR CONDITIONS OF ANY KIND, either express or implied.\n",
       "// See the License for the specific language governing permissions and\n",
       "// limitations under the License.\n",
       "\n",
       "/**\n",
       " * @fileoverview Helpers for google.colab Python module.\n",
       " */\n",
       "(function(scope) {\n",
       "function span(text, styleAttributes = {}) {\n",
       "  const element = document.createElement('span');\n",
       "  element.textContent = text;\n",
       "  for (const key of Object.keys(styleAttributes)) {\n",
       "    element.style[key] = styleAttributes[key];\n",
       "  }\n",
       "  return element;\n",
       "}\n",
       "\n",
       "// Max number of bytes which will be uploaded at a time.\n",
       "const MAX_PAYLOAD_SIZE = 100 * 1024;\n",
       "\n",
       "function _uploadFiles(inputId, outputId) {\n",
       "  const steps = uploadFilesStep(inputId, outputId);\n",
       "  const outputElement = document.getElementById(outputId);\n",
       "  // Cache steps on the outputElement to make it available for the next call\n",
       "  // to uploadFilesContinue from Python.\n",
       "  outputElement.steps = steps;\n",
       "\n",
       "  return _uploadFilesContinue(outputId);\n",
       "}\n",
       "\n",
       "// This is roughly an async generator (not supported in the browser yet),\n",
       "// where there are multiple asynchronous steps and the Python side is going\n",
       "// to poll for completion of each step.\n",
       "// This uses a Promise to block the python side on completion of each step,\n",
       "// then passes the result of the previous step as the input to the next step.\n",
       "function _uploadFilesContinue(outputId) {\n",
       "  const outputElement = document.getElementById(outputId);\n",
       "  const steps = outputElement.steps;\n",
       "\n",
       "  const next = steps.next(outputElement.lastPromiseValue);\n",
       "  return Promise.resolve(next.value.promise).then((value) => {\n",
       "    // Cache the last promise value to make it available to the next\n",
       "    // step of the generator.\n",
       "    outputElement.lastPromiseValue = value;\n",
       "    return next.value.response;\n",
       "  });\n",
       "}\n",
       "\n",
       "/**\n",
       " * Generator function which is called between each async step of the upload\n",
       " * process.\n",
       " * @param {string} inputId Element ID of the input file picker element.\n",
       " * @param {string} outputId Element ID of the output display.\n",
       " * @return {!Iterable<!Object>} Iterable of next steps.\n",
       " */\n",
       "function* uploadFilesStep(inputId, outputId) {\n",
       "  const inputElement = document.getElementById(inputId);\n",
       "  inputElement.disabled = false;\n",
       "\n",
       "  const outputElement = document.getElementById(outputId);\n",
       "  outputElement.innerHTML = '';\n",
       "\n",
       "  const pickedPromise = new Promise((resolve) => {\n",
       "    inputElement.addEventListener('change', (e) => {\n",
       "      resolve(e.target.files);\n",
       "    });\n",
       "  });\n",
       "\n",
       "  const cancel = document.createElement('button');\n",
       "  inputElement.parentElement.appendChild(cancel);\n",
       "  cancel.textContent = 'Cancel upload';\n",
       "  const cancelPromise = new Promise((resolve) => {\n",
       "    cancel.onclick = () => {\n",
       "      resolve(null);\n",
       "    };\n",
       "  });\n",
       "\n",
       "  // Wait for the user to pick the files.\n",
       "  const files = yield {\n",
       "    promise: Promise.race([pickedPromise, cancelPromise]),\n",
       "    response: {\n",
       "      action: 'starting',\n",
       "    }\n",
       "  };\n",
       "\n",
       "  cancel.remove();\n",
       "\n",
       "  // Disable the input element since further picks are not allowed.\n",
       "  inputElement.disabled = true;\n",
       "\n",
       "  if (!files) {\n",
       "    return {\n",
       "      response: {\n",
       "        action: 'complete',\n",
       "      }\n",
       "    };\n",
       "  }\n",
       "\n",
       "  for (const file of files) {\n",
       "    const li = document.createElement('li');\n",
       "    li.append(span(file.name, {fontWeight: 'bold'}));\n",
       "    li.append(span(\n",
       "        `(${file.type || 'n/a'}) - ${file.size} bytes, ` +\n",
       "        `last modified: ${\n",
       "            file.lastModifiedDate ? file.lastModifiedDate.toLocaleDateString() :\n",
       "                                    'n/a'} - `));\n",
       "    const percent = span('0% done');\n",
       "    li.appendChild(percent);\n",
       "\n",
       "    outputElement.appendChild(li);\n",
       "\n",
       "    const fileDataPromise = new Promise((resolve) => {\n",
       "      const reader = new FileReader();\n",
       "      reader.onload = (e) => {\n",
       "        resolve(e.target.result);\n",
       "      };\n",
       "      reader.readAsArrayBuffer(file);\n",
       "    });\n",
       "    // Wait for the data to be ready.\n",
       "    let fileData = yield {\n",
       "      promise: fileDataPromise,\n",
       "      response: {\n",
       "        action: 'continue',\n",
       "      }\n",
       "    };\n",
       "\n",
       "    // Use a chunked sending to avoid message size limits. See b/62115660.\n",
       "    let position = 0;\n",
       "    do {\n",
       "      const length = Math.min(fileData.byteLength - position, MAX_PAYLOAD_SIZE);\n",
       "      const chunk = new Uint8Array(fileData, position, length);\n",
       "      position += length;\n",
       "\n",
       "      const base64 = btoa(String.fromCharCode.apply(null, chunk));\n",
       "      yield {\n",
       "        response: {\n",
       "          action: 'append',\n",
       "          file: file.name,\n",
       "          data: base64,\n",
       "        },\n",
       "      };\n",
       "\n",
       "      let percentDone = fileData.byteLength === 0 ?\n",
       "          100 :\n",
       "          Math.round((position / fileData.byteLength) * 100);\n",
       "      percent.textContent = `${percentDone}% done`;\n",
       "\n",
       "    } while (position < fileData.byteLength);\n",
       "  }\n",
       "\n",
       "  // All done.\n",
       "  yield {\n",
       "    response: {\n",
       "      action: 'complete',\n",
       "    }\n",
       "  };\n",
       "}\n",
       "\n",
       "scope.google = scope.google || {};\n",
       "scope.google.colab = scope.google.colab || {};\n",
       "scope.google.colab._files = {\n",
       "  _uploadFiles,\n",
       "  _uploadFilesContinue,\n",
       "};\n",
       "})(self);\n",
       "</script> "
      ],
      "text/plain": [
       "<IPython.core.display.HTML object>"
      ]
     },
     "metadata": {},
     "output_type": "display_data"
    },
    {
     "name": "stdout",
     "output_type": "stream",
     "text": [
      "Saving 7_example.npy to 7_example (1).npy\n"
     ]
    },
    {
     "data": {
      "image/png": "[encoded data removed]",
      "text/plain": [
       "<Figure size 1000x400 with 2 Axes>"
      ]
     },
     "metadata": {},
     "output_type": "display_data"
    },
    {
     "name": "stdout",
     "output_type": "stream",
     "text": [
      "The predicted digit is: 7\n",
      "time: 15 s (started: 2025-01-24 07:14:39 +00:00)\n"
     ]
    }
   ],
   "source": [
    "import torch\n",
    "import time\n",
    "import random\n",
    "from numpy import load as load_npy\n",
    "from google.colab import files\n",
    "import matplotlib.pyplot as plt\n",
    "\n",
    "def predict_sign_digit(model):\n",
    "    start_time = time.time()\n",
    "\n",
    "    uploaded = files.upload()\n",
    "    if uploaded:\n",
    "        filename = next(iter(uploaded))\n",
    "        image = load_npy(filename)\n",
    "    else:\n",
    "        random_image_number = random.randint(0, 9)\n",
    "        image = load_npy(f\"/content/{random_image_number}_example.npy\")\n",
    "        print(f'an image of {random_image_number} was selected randomly' )\n",
    "\n",
    "    # Normalize the image\n",
    "    image = torch.tensor(image / 255, dtype=torch.float32)\n",
    "\n",
    "    # Make a prediction\n",
    "    with torch.no_grad():\n",
    "        output = model(image.unsqueeze(0).unsqueeze(0))\n",
    "        probabilities = torch.softmax(output, dim=1)\n",
    "        _, predicted = torch.max(probabilities.data, 1)\n",
    "\n",
    "\n",
    "    plt.figure(figsize=(10, 4))\n",
    "    plt.subplot(1, 2, 1)\n",
    "    plt.imshow(image.reshape(28, 28), cmap='gray')\n",
    "    plt.title(f\"Uploaded Image\")\n",
    "\n",
    "    # Bar chart of probabilities\n",
    "    plt.subplot(1, 2, 2)\n",
    "    plt.bar(range(10), probabilities.squeeze().numpy())\n",
    "    plt.xticks(range(10))\n",
    "    plt.xlabel(\"Digit\")\n",
    "    plt.ylabel(\"Probability\")\n",
    "    plt.title(\"Probabilities per Digit\")\n",
    "\n",
    "    plt.tight_layout()\n",
    "    plt.show()\n",
    "\n",
    "    return predicted.item()\n",
    "\n",
    "predicted_digit = predict_sign_digit(model)\n",
    "\n",
    "\n",
    "print(f\"The predicted digit is: {predicted_digit}\")"
   ]
  }
 ],
 "metadata": {
  "colab": {
   "collapsed_sections": [
    "EU8d54pEU8GF",
    "UPCSaccR32De",
    "YSzvJ196GkvO",
    "ZZAUfLmVU8GH",
    "xJAbESF7V9aJ",
    "jwIzE9kSU8GI",
    "VH6cuNVOU8GJ",
    "4s2veabTeUpD",
    "c7kXhHkoU8GJ",
    "SAUlD1ypU8GL",
    "Dn9kBnoOkJ7B",
    "pcLzuIa3kOQ_",
    "Fkv434xbnak7",
    "rOqJ_9CGk3h9",
    "eKieQwhOlA3m",
    "SK-L3P-XlDSQ"
   ],
   "provenance": []
  },
  "kernelspec": {
   "display_name": "Python 3",
   "name": "python3"
  },
  "language_info": {
   "name": "python"
  }
 },
 "nbformat": 4,
 "nbformat_minor": 0
}
